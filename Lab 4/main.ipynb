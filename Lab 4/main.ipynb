{
 "cells": [
  {
   "cell_type": "code",
   "execution_count": 41,
   "metadata": {},
   "outputs": [],
   "source": [
    "import numpy as np\n",
    "import matplotlib.pyplot as plt\n",
    "import pandas as pd\n",
    "from sklearn.preprocessing import scale, PolynomialFeatures\n",
    "from sklearn.model_selection import train_test_split\n",
    "from sklearn.metrics import mean_absolute_percentage_error, mean_squared_error, r2_score\n",
    "from scipy import stats"
   ]
  },
  {
   "cell_type": "markdown",
   "metadata": {},
   "source": [
    "## Задание 1. Линейная регрессия \n",
    "\n",
    "Прочитаем данные из файла, приведем к нужному формату, избавимся от лишних столбцов и некорректных значений. "
   ]
  },
  {
   "cell_type": "code",
   "execution_count": 42,
   "metadata": {},
   "outputs": [
    {
     "data": {
      "text/html": [
       "<div>\n",
       "<style scoped>\n",
       "    .dataframe tbody tr th:only-of-type {\n",
       "        vertical-align: middle;\n",
       "    }\n",
       "\n",
       "    .dataframe tbody tr th {\n",
       "        vertical-align: top;\n",
       "    }\n",
       "\n",
       "    .dataframe thead th {\n",
       "        text-align: right;\n",
       "    }\n",
       "</style>\n",
       "<table border=\"1\" class=\"dataframe\">\n",
       "  <thead>\n",
       "    <tr style=\"text-align: right;\">\n",
       "      <th></th>\n",
       "      <th>How_Many_Sold</th>\n",
       "      <th>Current_Price</th>\n",
       "      <th>RATING</th>\n",
       "    </tr>\n",
       "  </thead>\n",
       "  <tbody>\n",
       "    <tr>\n",
       "      <th>0</th>\n",
       "      <td>2242</td>\n",
       "      <td>1098.0</td>\n",
       "      <td>3.8</td>\n",
       "    </tr>\n",
       "    <tr>\n",
       "      <th>1</th>\n",
       "      <td>240</td>\n",
       "      <td>674.0</td>\n",
       "      <td>4.0</td>\n",
       "    </tr>\n",
       "    <tr>\n",
       "      <th>2</th>\n",
       "      <td>16662</td>\n",
       "      <td>588.0</td>\n",
       "      <td>3.8</td>\n",
       "    </tr>\n",
       "    <tr>\n",
       "      <th>3</th>\n",
       "      <td>135</td>\n",
       "      <td>599.0</td>\n",
       "      <td>4.0</td>\n",
       "    </tr>\n",
       "    <tr>\n",
       "      <th>4</th>\n",
       "      <td>240</td>\n",
       "      <td>982.0</td>\n",
       "      <td>4.0</td>\n",
       "    </tr>\n",
       "  </tbody>\n",
       "</table>\n",
       "</div>"
      ],
      "text/plain": [
       "   How_Many_Sold  Current_Price  RATING\n",
       "0           2242         1098.0     3.8\n",
       "1            240          674.0     4.0\n",
       "2          16662          588.0     3.8\n",
       "3            135          599.0     4.0\n",
       "4            240          982.0     4.0"
      ]
     },
     "execution_count": 42,
     "metadata": {},
     "output_type": "execute_result"
    }
   ],
   "source": [
    "\n",
    "data = pd.read_csv(\"men_shoes.csv\")\n",
    "# drop text columns\n",
    "data = data.drop([\"Brand_Name\", \"Product_details\"], axis=1)\n",
    "# drop rows with missing values\n",
    "data = data.dropna()\n",
    "# prepare data \n",
    "data[\"How_Many_Sold\"] = data[\"How_Many_Sold\"].str.replace(\",\", \"\").astype(int)\n",
    "data[\"Current_Price\"] = data[\"Current_Price\"].str.replace(\",\", \"\").str.replace(\"₹\", \"\").astype(float)\n",
    "\n",
    "data.head()"
   ]
  },
  {
   "cell_type": "markdown",
   "metadata": {},
   "source": [
    "Построим корреляционную матрицу, чтобы убедиться в том, что независимые переменные не коррелируют между собой.  "
   ]
  },
  {
   "cell_type": "code",
   "execution_count": 43,
   "metadata": {},
   "outputs": [
    {
     "name": "stdout",
     "output_type": "stream",
     "text": [
      "               How_Many_Sold  Current_Price    RATING\n",
      "How_Many_Sold       1.000000      -0.155577  0.144131\n",
      "Current_Price      -0.155577       1.000000  0.469463\n",
      "RATING              0.144131       0.469463  1.000000\n"
     ]
    }
   ],
   "source": [
    "correlation_matrix = data.corr()\n",
    "print(correlation_matrix)"
   ]
  },
  {
   "cell_type": "code",
   "execution_count": 59,
   "metadata": {},
   "outputs": [],
   "source": [
    "X, y = data[[\"How_Many_Sold\", \"Current_Price\"]], data[\"RATING\"]\n",
    "# X = scale(X)"
   ]
  },
  {
   "cell_type": "markdown",
   "metadata": {},
   "source": [
    "### Модель линейной регрессии \n",
    "\n",
    "$$ \n",
    "f(X) = X \\cdot \\omega + \\varepsilon = \\omega_0 x_0 + \\omega_1 x_1 + ... + \\omega_n x_n + \\varepsilon\n",
    "$$\n",
    "где $X$ - матрица признаков, $\\omega$ - вектор весов, $\\varepsilon$ - случайная ошибка, $f(x)$ - вектор прогнозов. \n",
    "\n",
    "При этом, так как ошибки распределены нормально: \n",
    "$$ \n",
    "E(\\varepsilon) = 0, \\quad D(\\varepsilon) = \\sigma^2 I \n",
    "$$\n",
    "И отсутствует мультиколлинеарность признаков, то оценка весов $\\omega$ будет оптимальной (в смысле минимизации среднеквадратичной ошибки). \n",
    "\n",
    "Выбор весов $\\omega$ заключается в минимизации функции потерь, например, среднеквадратичной ошибки -- $J(\\omega, x, y)$ \n",
    "\n",
    "$$\n",
    "J(\\omega, x, y) = \\frac{1}{2n} \\sum_{i=1}^{n} (f(x_i) - y_i)^2 =  \\frac{1}{2n} \\sum_{i=1}^{n}(\\omega^T x_i - y_i)^2 = \\frac{1}{2n} (\\omega^T X^T X \\omega - 2 \\omega^T X^T y + y^T y)\n",
    "$$\n",
    "\n",
    "$$ \n",
    "\\frac{\\partial J}{\\partial \\omega} = 0 \\Rightarrow \\omega = (X^T X)^{-1} X^T y\n",
    "$$\n",
    "\n",
    "При этом предсказания модели будут равны:\n",
    "$$\n",
    "\\hat{y} = X \\cdot \\omega\n",
    "$$\n",
    "\n",
    "Таким образом, веса $\\omega$ можно найти вершив матричное уравнение. Напишем класс для работы с линейной регрессией. \n"
   ]
  },
  {
   "cell_type": "code",
   "execution_count": 45,
   "metadata": {},
   "outputs": [],
   "source": [
    "class LinearRegression(object):\n",
    "    def fit(self, X, y):\n",
    "        X = np.insert(X, 0, 1, axis=1)  # add ones vector (free coefficients, aka bias)\n",
    "        temp = np.linalg.inv(X.T @ X)  \n",
    "        weights = np.linalg.multi_dot([temp, X.T, y])  \n",
    "        self.bias, self.weights = weights[0], weights[1:]\n",
    "\n",
    "    def get_weights(self):\n",
    "        return self.weights\n",
    "\n",
    "    def get_bias(self):\n",
    "        return self.bias\n",
    "    \n",
    "    def predict(self, X):\n",
    "        return X @ self.weights + self.bias"
   ]
  },
  {
   "cell_type": "markdown",
   "metadata": {},
   "source": [
    "Найдем веса $\\omega$ на основе обучающей выборки (с помощью метода fit) "
   ]
  },
  {
   "cell_type": "code",
   "execution_count": 60,
   "metadata": {},
   "outputs": [
    {
     "name": "stdout",
     "output_type": "stream",
     "text": [
      "Weights: [8.26389453e-06 5.26326316e-04]\n",
      "Bias: 3.347571501914363\n"
     ]
    }
   ],
   "source": [
    "linear_regression = LinearRegression()\n",
    "linear_regression.fit(X, y)\n",
    "\n",
    "print(\"Weights:\", linear_regression.get_weights())\n",
    "print(\"Bias:\", linear_regression.get_bias())"
   ]
  },
  {
   "cell_type": "markdown",
   "metadata": {},
   "source": [
    "Найдем оценку остаточной дисперсии $\\overline{\\sigma^2}$ по формуле:\n",
    "$$\n",
    "\\overline{\\sigma^2} = \\frac{RSS}{n - m} = \\frac{\\sum_{i=1}^{n} (y_i - \\hat{y}_i)^2}{n - m}\n",
    "$$\n",
    "где $n$ - количество наблюдений, $m$ - количество признаков (включая свободный член), $y_i$ - истинное значение, $\\hat{y}_i$ - предсказанное значение.\n",
    "\n",
    "Для этого найдем предсказания модели на тестовой выборке (с помощью метода predict) и посчитаем остаточную дисперсию. "
   ]
  },
  {
   "cell_type": "code",
   "execution_count": 73,
   "metadata": {},
   "outputs": [],
   "source": [
    "def residual_variance(n, m, y_true, y_hat):\n",
    "    numerator = np.sum((y_true - y_hat) ** 2)\n",
    "    return numerator / (n - m) "
   ]
  },
  {
   "cell_type": "code",
   "execution_count": 74,
   "metadata": {},
   "outputs": [
    {
     "name": "stdout",
     "output_type": "stream",
     "text": [
      "Residual variance: 0.11739173681983163\n"
     ]
    }
   ],
   "source": [
    "y_hat = linear_regression.predict(X_test) \n",
    "\n",
    "r_var = residual_variance(len(y_test), len(linear_regression.get_weights()), y_test, y_hat)\n",
    "print(\"Residual variance:\", r_var)"
   ]
  },
  {
   "cell_type": "markdown",
   "metadata": {},
   "source": [
    "Вычислим коэффициент детерминации $R^2$ по формуле: \n",
    "$$\n",
    "R^2 = 1 - \\frac{RSS}{TSS} = 1 - \\frac{\\sum_{i=1}^{n} (y_i - \\hat{y}_i)^2}{\\sum_{i=1}^{n} (y_i - \\overline{y})^2}\n",
    "$$\n",
    "Значение этого коэффициента показывает какую долю дисперсии зависимой переменной объясняют независимые переменные."
   ]
  },
  {
   "cell_type": "code",
   "execution_count": 75,
   "metadata": {},
   "outputs": [],
   "source": [
    "def R2_score(y_true, y_hat):\n",
    "    numerator = np.sum((y_true - y_hat) ** 2)\n",
    "    denominator = np.sum((y_true - np.mean(y_true)) ** 2)\n",
    "    return 1 - numerator / denominator"
   ]
  },
  {
   "cell_type": "code",
   "execution_count": 76,
   "metadata": {},
   "outputs": [
    {
     "name": "stdout",
     "output_type": "stream",
     "text": [
      "R2 score: 0.26488610056950224\n"
     ]
    }
   ],
   "source": [
    "r2_score = R2_score(y_test, y_hat)\n",
    "print(\"R2 score:\", r2_score)"
   ]
  },
  {
   "cell_type": "markdown",
   "metadata": {},
   "source": [
    "### Поиск доверительных интервалов \n",
    "\n",
    "Так как случайные ошибки распределены нормально, то предсказания модели также будут распределены нормально.\n",
    "\n",
    "$$ \n",
    "\\hat{y} \\sim N(X \\cdot \\omega, \\sigma^2 I)\n",
    "$$\n",
    "На основании этого можно сделать вывод, что веса $\\omega$ также распределены нормально. \n",
    "$$ \n",
    "\\hat{\\omega} \\sim N(\\omega, \\sigma^2 (X^T X)^{-1})\n",
    "$$\n",
    "\n",
    "$$ \n",
    "\\frac{\\hat{\\omega} - \\omega}{\\sigma(\\hat{\\omega})} = \\frac{\\hat{\\omega} - \\omega}{\\sqrt{\\sigma^2 (X^tX)^{-1}}} \\sim t(n - m)\n",
    "$$\n",
    "\n",
    "Можно построить доверительные интервалы для весов $\\omega$ \n",
    "$$ \n",
    "-t_{1 - \\alpha/2} \\leq \\frac{\\hat{\\omega} - \\omega}{\\sqrt{\\sigma^2 (X^tX)^{-1}}} \\leq t_{1 - \\alpha/2}\n",
    "$$\n",
    "$$ \n",
    "\\hat{\\omega} - t_{1 - \\alpha/2} \\sqrt{\\sigma^2 (X^tX)^{-1}} \\leq \\omega \\leq \\hat{\\omega} + t_{1 - \\alpha/2} \\sqrt{\\sigma^2 (X^tX)^{-1}}\n",
    "$$\n",
    "где $t_{1 - \\alpha/2}$ - квантиль распределения Стьюдента уровня $1 - \\alpha/2$ с $n - m$ степенями свободы."
   ]
  },
  {
   "cell_type": "code",
   "execution_count": 77,
   "metadata": {},
   "outputs": [
    {
     "name": "stdout",
     "output_type": "stream",
     "text": [
      "Confidence interval for weights:\n",
      "Weight 0: [7.2698205313088615e-06, 9.257968535879098e-06]\n",
      "Weight 1: [0.0005138017691232226, 0.0005388508622110828]\n",
      "Confidence interval for bias: [3.3475705078403606, 3.347572495988365]\n"
     ]
    }
   ],
   "source": [
    "alpha = 0.025\n",
    "\n",
    "n = len(y_test)\n",
    "m = len(linear_regression.get_weights())\n",
    "t = stats.t.ppf(1 - alpha / 2, df=n - m)\n",
    "\n",
    "left_omega = linear_regression.get_weights() - t * np.sqrt(r_var * np.diag(np.linalg.inv(X_test.T @ X_test)))\n",
    "right_omega = linear_regression.get_weights() + t * np.sqrt(r_var * np.diag(np.linalg.inv(X_test.T @ X_test)))\n",
    "\n",
    "left_bias = linear_regression.get_bias() - t * np.sqrt(r_var * np.linalg.inv(X_test.T @ X_test)[0, 0])\n",
    "right_bias = linear_regression.get_bias() + t * np.sqrt(r_var * np.linalg.inv(X_test.T @ X_test)[0, 0])\n",
    "\n",
    "print(f\"Confidence interval for weights:\")\n",
    "for i, (l, r) in enumerate(zip(left_omega, right_omega)):\n",
    "    print(f\"Weight {i}: [{l}, {r}]\")\n",
    "    \n",
    "print(f\"Confidence interval for bias: [{left_bias}, {right_bias}]\")\n",
    "\n",
    "    "
   ]
  },
  {
   "cell_type": "markdown",
   "metadata": {},
   "source": [
    "## Оценка гипотез "
   ]
  },
  {
   "cell_type": "markdown",
   "metadata": {},
   "source": [
    "### Чем больше продажи, тем больше рейтинг \n",
    "\n",
    "Сформулируем гипотезу:\n",
    "$$\n",
    "\\begin{array}{ll}\n",
    "H_0: \\omega_0 = 0 &\\text{продажи не влияют на рейтинг}\\\\\n",
    "H_1: \\omega_0 \\neq 0& \\text{продажи влияют на рейтинг}\n",
    "\\end{array}\n",
    "$$\n",
    "\n",
    "Статистика $t$ для этой гипотезы будет равна: \n",
    "$$\n",
    "t = \\frac{\\hat{\\omega}_0}{\\sqrt{\\sigma^2 (X^tX)^{-1}_{00}}}\n",
    "$$"
   ]
  },
  {
   "cell_type": "code",
   "execution_count": 91,
   "metadata": {},
   "outputs": [
    {
     "name": "stdout",
     "output_type": "stream",
     "text": [
      "t-statistic: 18.63920218281086\n",
      "Critical value: 2.2421324761522725\n",
      "H0 is rejected\n"
     ]
    }
   ],
   "source": [
    "t_stat = (linear_regression.get_weights()[0]) / np.sqrt(r_var * np.linalg.inv(X_test.T @ X_test)[0, 0])\n",
    "print(\"t-statistic:\", t_stat)\n",
    "critical_value = stats.t.ppf(1 - alpha / 2, df=n - m)\n",
    "print(\"Critical value:\", critical_value)\n",
    "\n",
    "if t_stat > critical_value:\n",
    "    print(\"H0 is rejected\")\n",
    "else:\n",
    "    print(\"H0 is not rejected\")"
   ]
  },
  {
   "cell_type": "markdown",
   "metadata": {},
   "source": [
    "Так как значение статистики $t$ оказалось больше критического значения, то гипотеза $H_0$ отвергается. Таким образом, продажи влияют на рейтинг. "
   ]
  },
  {
   "cell_type": "markdown",
   "metadata": {},
   "source": [
    "### Рейтинг зависит от цены \n",
    "Сформулируем гипотезу:\n",
    "$$\n",
    "\\begin{array}{ll}\n",
    "H_0: \\omega_1 = 0 &\\text{цена не влияет на рейтинг}\\\\\n",
    "H_1: \\omega_1 \\neq 0& \\text{цена влияет на рейтинг}\n",
    "\\end{array}\n",
    "$$"
   ]
  },
  {
   "cell_type": "code",
   "execution_count": 92,
   "metadata": {},
   "outputs": [
    {
     "name": "stdout",
     "output_type": "stream",
     "text": [
      "t-statistic: 94.22243921340346\n",
      "Critical value: 2.2421324761522725\n",
      "H0 is rejected\n"
     ]
    }
   ],
   "source": [
    "t_stat = (linear_regression.get_weights()[1]) / np.sqrt(r_var * np.linalg.inv(X_test.T @ X_test)[1, 1])\n",
    "print(\"t-statistic:\", t_stat)\n",
    "critical_value = stats.t.ppf(1 - alpha / 2, df=n - m)\n",
    "print(\"Critical value:\", critical_value)\n",
    "\n",
    "if t_stat > critical_value:\n",
    "    print(\"H0 is rejected\")\n",
    "else:\n",
    "    print(\"H0 is not rejected\")"
   ]
  },
  {
   "cell_type": "markdown",
   "metadata": {},
   "source": [
    "Цена влияет на рейтинг, так как значение статистики $t$ оказалось больше критического значения."
   ]
  },
  {
   "cell_type": "markdown",
   "metadata": {},
   "source": [
    "### Коэффициенты при цене и продажах одновременно равны нулю \n",
    "Сформулируем гипотезу:\n",
    "$$\n",
    "\\begin{array}{ll}\n",
    "H_0: \\omega_0 = \\omega_1 = 0 \\\\ \n",
    "H_1: \\overline{H_0}& \n",
    "\\end{array}\n",
    "$$\n",
    "\n",
    "Будем использовать F-тест для проверки этой гипотезы. \n",
    "$$\n",
    "F = \\frac{(RSS_0 - RSS_1)/(m - k)}{RSS_1/(n - m)}\n",
    "$$\n"
   ]
  },
  {
   "cell_type": "code",
   "execution_count": 93,
   "metadata": {},
   "outputs": [
    {
     "name": "stdout",
     "output_type": "stream",
     "text": [
      "F-statistic: 1667.262703486625\n",
      "Critical value: 5.0271580406198995\n",
      "H0 is rejected\n"
     ]
    }
   ],
   "source": [
    "RSS_0 = np.sum((y_test - np.mean(y_test)) ** 2)\n",
    "RSS_1 = np.sum((y_test - y_hat) ** 2) \n",
    "\n",
    "f_stat = ((RSS_0 - RSS_1) / (m - 1)) / (RSS_1 / (n - m))\n",
    "print(\"F-statistic:\", f_stat)\n",
    "\n",
    "critical_value = stats.f.ppf(1 - alpha, m - 1, n - m)\n",
    "print(\"Critical value:\", critical_value)\n",
    "\n",
    "if f_stat > critical_value:\n",
    "    print(\"H0 is rejected\")\n",
    "else:\n",
    "    print(\"H0 is not rejected\")"
   ]
  },
  {
   "cell_type": "markdown",
   "metadata": {},
   "source": [
    "Нулевая гипотеза отвергается, так как значение статистики $F$ оказалось больше критического значения. "
   ]
  },
  {
   "cell_type": "markdown",
   "metadata": {},
   "source": [
    "## Задание 2 \n"
   ]
  },
  {
   "cell_type": "markdown",
   "metadata": {},
   "source": []
  }
 ],
 "metadata": {
  "kernelspec": {
   "display_name": "venv",
   "language": "python",
   "name": "python3"
  },
  "language_info": {
   "codemirror_mode": {
    "name": "ipython",
    "version": 3
   },
   "file_extension": ".py",
   "mimetype": "text/x-python",
   "name": "python",
   "nbconvert_exporter": "python",
   "pygments_lexer": "ipython3",
   "version": "3.13.0"
  }
 },
 "nbformat": 4,
 "nbformat_minor": 2
}
