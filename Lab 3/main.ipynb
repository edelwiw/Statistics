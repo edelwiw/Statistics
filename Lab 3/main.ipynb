{
 "cells": [
  {
   "cell_type": "code",
   "execution_count": 1,
   "metadata": {},
   "outputs": [],
   "source": [
    "import csv\n",
    "import pandas as pd\n",
    "import numpy as np\n",
    "import matplotlib.pyplot as plt\n",
    "import scipy.stats as stats\n",
    "import scipy.special as special\n",
    "\n",
    "pd.options.display.width = 10000\n",
    "pd.options.display.max_columns = None"
   ]
  },
  {
   "cell_type": "code",
   "execution_count": 2,
   "metadata": {},
   "outputs": [
    {
     "name": "stdout",
     "output_type": "stream",
     "text": [
      "                    song_name  song_popularity  song_duration_ms  acousticness  danceability  energy  instrumentalness  key  liveness  loudness  audio_mode  speechiness    tempo  time_signature  audio_valence\n",
      "0  Boulevard of Broken Dreams               73            262333      0.005520         0.496   0.682          0.000029    8    0.0589    -4.095           1       0.0294  167.060               4          0.474\n",
      "1                  In The End               66            216933      0.010300         0.542   0.853          0.000000    3    0.1080    -6.407           0       0.0498  105.256               4          0.370\n",
      "2           Seven Nation Army               76            231733      0.008170         0.737   0.463          0.447000    0    0.2550    -7.828           1       0.0792  123.881               4          0.324\n",
      "3                  By The Way               74            216933      0.026400         0.451   0.970          0.003550    0    0.1020    -4.938           1       0.1070  122.444               4          0.198\n",
      "4           How You Remind Me               56            223826      0.000954         0.447   0.766          0.000000   10    0.1130    -5.065           1       0.0313  172.011               4          0.574\n",
      "5            Bring Me To Life               80            235893      0.008950         0.316   0.945          0.000002    4    0.3960    -3.169           0       0.1240  189.931               4          0.320\n",
      "6                 Last Resort               81            199893      0.000504         0.581   0.887          0.001110    4    0.2680    -3.659           0       0.0624   90.578               4          0.724\n",
      "7    Are You Gonna Be My Girl               76            213800      0.001480         0.613   0.953          0.000582    2    0.1520    -3.435           1       0.0855  105.046               4          0.537\n",
      "8              Mr. Brightside               80            222586      0.001080         0.330   0.936          0.000000    1    0.0926    -3.660           1       0.0917  148.112               4          0.234\n",
      "9                 Sex on Fire               81            203346      0.001720         0.542   0.905          0.010400    9    0.1360    -5.653           1       0.0540  153.398               4          0.374\n"
     ]
    }
   ],
   "source": [
    "# read data from file \n",
    "with open(\"song_data.csv\", \"r\") as file:\n",
    "    df = pd.read_csv(file)\n",
    "    \n",
    "# remove nan values\n",
    "df = df.dropna()\n",
    "\n",
    "# global \n",
    "alpha = 0.05\n",
    "\n",
    "print(df.head(10))"
   ]
  },
  {
   "cell_type": "markdown",
   "metadata": {},
   "source": [
    "### Построим гистограмму рейтинга песен "
   ]
  },
  {
   "cell_type": "code",
   "execution_count": 17,
   "metadata": {},
   "outputs": [
    {
     "data": {
      "image/png": "[encoded data removed]",
      "text/plain": [
       "<Figure size 640x480 with 1 Axes>"
      ]
     },
     "metadata": {},
     "output_type": "display_data"
    }
   ],
   "source": [
    "# plot the hist of how many sold\n",
    "num_bins = 100\n",
    "plt.hist(df['song_popularity'], bins=num_bins, density=True)\n",
    "plt.xlabel('Popularity')\n",
    "plt.ylabel('Frequency')\n",
    "\n",
    "# normal distribution\n",
    "x = np.linspace(min(df['song_popularity']), max(df['song_popularity']), 100)\n",
    "mu = np.mean(df['song_popularity'])\n",
    "sigma = np.std(df['song_popularity'])\n",
    "plt.plot(x, stats.norm.pdf(x, mu, sigma), color='red')\n",
    "plt.show()"
   ]
  },
  {
   "cell_type": "markdown",
   "metadata": {},
   "source": [
    "### Выдвинем статистическую гипотезу -- рейтинг песни распределен равномерно \n",
    "Пусть $F(x)$ -- закон распределения рейтинга песен. \n",
    "$$ \n",
    "\\begin{array}{ll}\n",
    "H_0 = \\{F = N(\\mu, \\sigma^2)\\} \\\\ \n",
    "H_1 = \\{F \\ne N(\\mu, \\sigma^2)\\} \\\\ \n",
    "\\end{array}\n",
    "$$\n",
    "\n",
    "Проверим гипотезу с помощью критерия Хи-квадрат.\n",
    "\n",
    "Критерий $\\chi^2$ основывается на группированных данных. Область значений предполагаемого распределения $F$ делят на некоторое число интервалов. После чего строят функцию отклонения $\\rho$ по разностям теоретических вероятностей попадания в интервалы группировки и эмпирических частот.\n",
    "\n",
    "Пусть $A_1, A_2,\\ldots, A_k$ -- интервалы группировки, \n",
    "\n",
    "$\\nu_j,~j = 1 \\ldots k$ -- количество элементов выборки, попавших в интервал $A_j$, \n",
    "\n",
    "$p_j > 0$ -- вероятность попадания в интервал $A_j$ при условии верности нулевой гипотезы. \n",
    "\n",
    "$$\n",
    "\\rho = \\sum_{j=1}^{k} \\frac{(\\nu_j - n p_j)^2}{n p_j}\n",
    "$$\n",
    "\n",
    "Если верна гипотеза $H_0$, то при фиксированном $k$ и $n \\to \\infty$ статистика $\\rho$ имеет распределение $\\chi^2$ с $k-1$ степенью свободы.\n",
    "\n",
    "Построим критерий согласия: \n",
    "$$\n",
    "\\begin{cases}\n",
    "H_0, & \\text{если } \\rho < C \\\\ \n",
    "H_1, & \\text{если } \\rho \\ge C \n",
    "\\end{cases}\n",
    "$$\n",
    "где $C$ -- квантиль распределения $\\chi^2$ с $k-1$ степенью свободы уровня значимости $\\alpha$."
   ]
  },
  {
   "cell_type": "code",
   "execution_count": 9,
   "metadata": {},
   "outputs": [
    {
     "name": "stdout",
     "output_type": "stream",
     "text": [
      "p=18340.133103191074, с=122.10773460981942 p_value=0.0\n",
      "H0 is rejected\n"
     ]
    }
   ],
   "source": [
    "n = len(df['song_popularity'])\n",
    "imperial, bins = np.histogram(df['song_popularity'], bins=num_bins, density=True)\n",
    "\n",
    "expected = stats.norm.pdf(bins[:-1], loc=mu, scale=sigma)\n",
    "\n",
    "# вычислим статистику критерия \n",
    "p = sum([((imperial[i] - n * expected[i]) ** 2 / (n * expected[i])) for i in range(num_bins - 1)])\n",
    "# print(p)\n",
    "\n",
    "# вычислим критическое значение\n",
    "с = stats.chi2.ppf(1 - alpha, num_bins - 1 - 1) \n",
    "p_value = 1 - stats.chi2.cdf(p, num_bins - 1 - 1)\n",
    "# print(critical)\n",
    "\n",
    "print(f\"p={p}, с={с}\", f\"p_value={p_value}\")\n",
    "\n",
    "# проверим гипотезу\n",
    "if abs(p) >= с:\n",
    "    print('H0 is rejected')\n",
    "else:\n",
    "    print('H0 is not rejected')"
   ]
  },
  {
   "cell_type": "markdown",
   "metadata": {},
   "source": [
    "Таким образом, можно опровергнуть гипотезу $H_0$ при уровне значимости $\\alpha = 0.05$. Распределение рейтинга песен не является нормальным."
   ]
  },
  {
   "cell_type": "code",
   "execution_count": 10,
   "metadata": {},
   "outputs": [
    {
     "name": "stdout",
     "output_type": "stream",
     "text": [
      "p_value=3.2049396358845108e-211\n",
      "H0 is rejected\n"
     ]
    }
   ],
   "source": [
    "# проверка через встроенную функцию \n",
    "p_value = stats.kstest(imperial, 'norm', (mu, sigma)).pvalue\n",
    "print(f\"p_value={p_value}\")\n",
    "\n",
    "if p_value < alpha:\n",
    "    print('H0 is rejected')\n",
    "else:\n",
    "    print('H0 is not rejected')"
   ]
  },
  {
   "cell_type": "markdown",
   "metadata": {},
   "source": [
    "### Выдвинем статистическую гипотезу -- рейтинг коротких и длинных песен распределен одинаково\n",
    "\n",
    "Пусть $F_{short}(x)$ -- закон распределения рейтинга коротких песен, $F_{long}(x)$ -- закон распределения рейтинга длинных песен.\n",
    "\n",
    "$$\n",
    "\\begin{array}{ll}\n",
    "H_0 = \\{F_{short} = F_{long}\\} \\\\\n",
    "H_1 = \\{F_{short} \\ne F_{long}\\}\n",
    "\\end{array}\n",
    "$$"
   ]
  },
  {
   "cell_type": "code",
   "execution_count": 11,
   "metadata": {},
   "outputs": [
    {
     "name": "stdout",
     "output_type": "stream",
     "text": [
      "Short: 4088, Long: 4993\n"
     ]
    },
    {
     "data": {
      "image/png": "[encoded data removed]",
      "text/plain": [
       "<Figure size 640x480 with 1 Axes>"
      ]
     },
     "metadata": {},
     "output_type": "display_data"
    },
    {
     "name": "stdout",
     "output_type": "stream",
     "text": [
      "t=3.194776722310274, p_value=0.0014041752195860036 critical=1.960225310913378\n",
      "H0 is rejected\n",
      "t=3.1875775787426943, p_value=0.0014395643758633625 critical=1.960225310913378\n",
      "H0 is rejected\n"
     ]
    }
   ],
   "source": [
    "# будем считать песни с длиной менее 180 секунд короткими, \n",
    "# а песни с длиной более 240 секунд длинными\n",
    "\n",
    "short_time = 180 * 1000\n",
    "long_time = 240 * 1000\n",
    "\n",
    "short = df[df['song_duration_ms'] < short_time]\n",
    "long = df[df['song_duration_ms'] > long_time]\n",
    "\n",
    "print(f\"Short: {len(short)}, Long: {len(long)}\")\n",
    "\n",
    "# Построим гистограммы \n",
    "plt.hist(short['song_popularity'], bins=num_bins, density=True, alpha=0.5)\n",
    "plt.hist(long['song_popularity'], bins=num_bins, density=True, alpha=0.5)\n",
    "plt.legend(['Short', 'Long'])\n",
    "plt.show()\n",
    "\n",
    "# t - test \n",
    "mean_short = np.mean(short['song_popularity'])\n",
    "mean_long = np.mean(long['song_popularity'])\n",
    "\n",
    "var_short = np.var(short['song_popularity'])\n",
    "var_long = np.var(long['song_popularity'])\n",
    "\n",
    "len_short = len(short)\n",
    "len_long = len(long)\n",
    "\n",
    "# статистика критерия\n",
    "t = (mean_long - mean_short) / np.sqrt(var_short / len_short + var_long / len_long)\n",
    "freedom_degree = len_short + len_long - 2\n",
    "critical = stats.t.ppf(1 - alpha / 2, freedom_degree)  \n",
    "p_value = 2 * stats.t.sf(abs(t), freedom_degree)\n",
    " \n",
    "print(f\"t={t}, p_value={p_value}\", f\"critical={critical}\")\n",
    "\n",
    "if t >= critical:\n",
    "    print('H0 is rejected')\n",
    "else:\n",
    "    print('H0 is not rejected')\n",
    "    \n",
    "# проверка через встроенную функцию\n",
    "t, p_value = stats.ttest_ind(long['song_popularity'], short['song_popularity'])\n",
    "critical = stats.t.ppf(1 - alpha / 2, freedom_degree)\n",
    "print(f\"t={t}, p_value={p_value}\", f\"critical={critical}\")\n",
    "\n",
    "if p_value < alpha:\n",
    "    print('H0 is rejected')\n",
    "else:\n",
    "    print('H0 is not rejected')"
   ]
  },
  {
   "cell_type": "code",
   "execution_count": 12,
   "metadata": {},
   "outputs": [
    {
     "name": "stdout",
     "output_type": "stream",
     "text": [
      "u=10810001.5, p_value=1.1582076223851957e-06 critical=1.959963984540054\n",
      "H0 is rejected\n"
     ]
    }
   ],
   "source": [
    "# Критерий Манна-Уитни\n",
    "u, p_value = stats.mannwhitneyu(long['song_popularity'], short['song_popularity'])\n",
    "critical = stats.norm.ppf(1 - alpha / 2)\n",
    "\n",
    "print(f\"u={u}, p_value={p_value}\", f\"critical={critical}\")\n",
    "\n",
    "if p_value < alpha:\n",
    "    print('H0 is rejected')\n",
    "else:\n",
    "    print('H0 is not rejected')"
   ]
  },
  {
   "cell_type": "markdown",
   "metadata": {},
   "source": [
    "### Выдвинем статистическую гипотезу -- рейтинг песен связан с их танцевальностью \n",
    "\n",
    "$$\n",
    "\\begin{array}{ll}\n",
    "H_0 = {K_{pr} = 0} \\\\ \n",
    "H_1 = {K_{pr} \\ne 0}\n",
    "\\end{array}\n",
    "$$\n",
    "где $K_{pr}$ -- выборочный коэффициент корреляции.\n",
    "\n",
    "Вычислим коэффициент корреляции формулой:\n",
    "$$\n",
    "K_{pr} = \\frac{\\sum{X_i\\cdot Y_i - \\overline{X} \\cdot \\overline{Y}}}{\\sqrt{\\sum{(Y_i - \\overline{Y})^2}\\cdot \\sum{(X_i - \\overline{X})^2}}}\n",
    "$$\n",
    "\n",
    "где $X_i$ -- рейтинг песни, $Y_i$ -- танцевальность песни, $\\overline{X}$ -- средний рейтинг песен, $\\overline{Y}$ -- средняя танцевальность песен."
   ]
  },
  {
   "cell_type": "code",
   "execution_count": 13,
   "metadata": {},
   "outputs": [
    {
     "name": "stdout",
     "output_type": "stream",
     "text": [
      "correlation coefficient: 0.10429014168024378, t_stat: 14.390561373540615, p_value: 0.0\n",
      "H0 is rejected\n",
      "correlation coefficient: 0.10429014168024241, t_stat = 14.390561373540423, p_value: 1.0494366286773026e-46\n",
      "H0 is rejected\n"
     ]
    }
   ],
   "source": [
    "mean_rating = df['song_popularity'].mean()\n",
    "mean_danceability = df['danceability'].mean()\n",
    "n = len(df)\n",
    "\n",
    "s1 = (df['song_popularity'] * df['danceability'] - mean_danceability * mean_rating).sum() \n",
    "s2 = ((df['danceability'] - mean_danceability) ** 2).sum()\n",
    "s3 = ((df['song_popularity'] - mean_rating) ** 2).sum()\n",
    "\n",
    "K = s1 / np.sqrt(s2 * s3)\n",
    "\n",
    "# статистика критерия\n",
    "t_stat = K * np.sqrt(n - 2) / np.sqrt(1 - K ** 2)\n",
    "p_value = 2 * (1 - stats.t.cdf(t_stat, n - 2))\n",
    "\n",
    "print(f\"correlation coefficient: {K}, t_stat: {t_stat}, p_value: {p_value}\")\n",
    "\n",
    "if p_value < alpha:\n",
    "    print('H0 is rejected')\n",
    "else:\n",
    "    print('H0 is not rejected')\n",
    "\n",
    "# проверка через встроенную функцию\n",
    "\n",
    "K, p_value = stats.pearsonr(df['song_popularity'], df['danceability'])\n",
    "t_stat = K * np.sqrt(n - 2) / np.sqrt(1 - K ** 2)\n",
    "print(f\"correlation coefficient: {K}, t_stat = {t_stat}, p_value: {p_value}\")\n",
    "\n",
    "if p_value < alpha:\n",
    "    print('H0 is rejected')\n",
    "else:\n",
    "    print('H0 is not rejected')\n"
   ]
  }
 ],
 "metadata": {
  "kernelspec": {
   "display_name": "venv",
   "language": "python",
   "name": "python3"
  },
  "language_info": {
   "codemirror_mode": {
    "name": "ipython",
    "version": 3
   },
   "file_extension": ".py",
   "mimetype": "text/x-python",
   "name": "python",
   "nbconvert_exporter": "python",
   "pygments_lexer": "ipython3",
   "version": "3.13.0"
  }
 },
 "nbformat": 4,
 "nbformat_minor": 2
}
